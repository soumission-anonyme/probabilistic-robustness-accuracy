{
 "cells": [
  {
   "cell_type": "code",
   "execution_count": 1,
   "id": "dad2b2e4",
   "metadata": {},
   "outputs": [],
   "source": [
    "# !git add .\n",
    "# !git commit -m tolist\n",
    "# !git push"
   ]
  },
  {
   "cell_type": "code",
   "execution_count": 1,
   "id": "9c6c042e",
   "metadata": {},
   "outputs": [],
   "source": [
    "import sys\n",
    "sys.path.append('../')"
   ]
  },
  {
   "cell_type": "code",
   "execution_count": 2,
   "id": "b63573c9",
   "metadata": {},
   "outputs": [
    {
     "data": {
      "text/plain": [
       "<All keys matched successfully>"
      ]
     },
     "execution_count": 2,
     "metadata": {},
     "output_type": "execute_result"
    }
   ],
   "source": [
    "import torch\n",
    "import torch.nn.functional as F\n",
    "\n",
    "from utils import experiment, iterate\n",
    "from nets.mnist import ConvNet\n",
    "\n",
    "m = ConvNet()\n",
    "m = m.to('cuda' if torch.cuda.is_available() else 'cpu')\n",
    "\n",
    "# ckpt = 'checkpoints/ConvNet.pt'\n",
    "ckpt = '../checkpoints/ConvNet_TRADES.pt'\n",
    "# ckpt = 'checkpoints/ConvNet_CVaR.pt'\n",
    "\n",
    "m.load_state_dict({k:torch.load(ckpt)[k] for k in m.state_dict()})\n",
    "\n"
   ]
  },
  {
   "cell_type": "code",
   "execution_count": 4,
   "id": "fd80923d",
   "metadata": {},
   "outputs": [
    {
     "ename": "KeyboardInterrupt",
     "evalue": "",
     "output_type": "error",
     "traceback": [
      "\u001b[0;31m---------------------------------------------------------------------------\u001b[0m",
      "\u001b[0;31mKeyboardInterrupt\u001b[0m                         Traceback (most recent call last)",
      "Input \u001b[0;32mIn [4]\u001b[0m, in \u001b[0;36m<cell line: 1>\u001b[0;34m()\u001b[0m\n\u001b[1;32m      1\u001b[0m \u001b[38;5;28;01mwith\u001b[39;00m torch\u001b[38;5;241m.\u001b[39mno_grad():\n\u001b[0;32m----> 2\u001b[0m     outputs \u001b[38;5;241m=\u001b[39m \u001b[43miterate\u001b[49m\u001b[38;5;241;43m.\u001b[39;49m\u001b[43mpredict\u001b[49m\u001b[43m(\u001b[49m\u001b[43mm\u001b[49m\u001b[43m,\u001b[49m\n\u001b[1;32m      3\u001b[0m \u001b[43m                              \u001b[49m\u001b[43miterate\u001b[49m\u001b[38;5;241;43m.\u001b[39;49m\u001b[43mmnist_delta_predict_step_linf\u001b[49m\u001b[43m,\u001b[49m\n\u001b[1;32m      4\u001b[0m \u001b[43m                              \u001b[49m\u001b[43mdevice\u001b[49m\u001b[43m \u001b[49m\u001b[38;5;241;43m=\u001b[39;49m\u001b[43m \u001b[49m\u001b[38;5;124;43m'\u001b[39;49m\u001b[38;5;124;43mcuda\u001b[39;49m\u001b[38;5;124;43m'\u001b[39;49m\u001b[43m,\u001b[49m\n\u001b[1;32m      5\u001b[0m \u001b[43m                              \u001b[49m\u001b[43mval_set\u001b[49m\u001b[43m \u001b[49m\u001b[38;5;241;43m=\u001b[39;49m\u001b[43m \u001b[49m\u001b[43mexperiment\u001b[49m\u001b[38;5;241;43m.\u001b[39;49m\u001b[43mtrain_set\u001b[49m\u001b[43m,\u001b[49m\n\u001b[1;32m      6\u001b[0m \u001b[43m                              \u001b[49m\u001b[43mbatch_size\u001b[49m\u001b[43m \u001b[49m\u001b[38;5;241;43m=\u001b[39;49m\u001b[43m \u001b[49m\u001b[38;5;241;43m1000\u001b[39;49m\n\u001b[1;32m      7\u001b[0m \u001b[43m                             \u001b[49m\u001b[43m)\u001b[49m\n",
      "File \u001b[0;32m~/Downloads/delta-predict/demo/../utils/iterate.py:183\u001b[0m, in \u001b[0;36mpredict\u001b[0;34m(model, predict_step, device, val_set, batch_size, epoch, writer)\u001b[0m\n\u001b[1;32m    181\u001b[0m \u001b[38;5;28;01mwith\u001b[39;00m torch\u001b[38;5;241m.\u001b[39mno_grad():\n\u001b[1;32m    182\u001b[0m \t\u001b[38;5;28;01mfor\u001b[39;00m batch_idx, batch \u001b[38;5;129;01min\u001b[39;00m \u001b[38;5;28menumerate\u001b[39m(val_loader):\n\u001b[0;32m--> 183\u001b[0m \t\toutput \u001b[38;5;241m=\u001b[39m \u001b[43mpredict_step\u001b[49m\u001b[43m(\u001b[49m\u001b[43mmodel\u001b[49m\u001b[43m,\u001b[49m\u001b[43m \u001b[49m\u001b[43mbatch\u001b[49m\u001b[43m,\u001b[49m\u001b[43m \u001b[49m\u001b[43mbatch_idx\u001b[49m\u001b[43m,\u001b[49m\u001b[43m \u001b[49m\u001b[43mdevice\u001b[49m\u001b[43m)\u001b[49m\n\u001b[1;32m    184\u001b[0m \t\toutputs\u001b[38;5;241m.\u001b[39mappend({k:v\u001b[38;5;241m.\u001b[39mdetach()\u001b[38;5;241m.\u001b[39mcpu() \u001b[38;5;28;01mfor\u001b[39;00m k, v \u001b[38;5;129;01min\u001b[39;00m output\u001b[38;5;241m.\u001b[39mitems()})\n\u001b[1;32m    185\u001b[0m \u001b[38;5;66;03m# \t\tfor k, v in output.items():\u001b[39;00m\n\u001b[1;32m    186\u001b[0m \u001b[38;5;66;03m# \t\t\twriter.add_scalar(\"Step-\" + k + \"-valid\", v / batch_size, epoch * len(val_loader) + batch_idx)\u001b[39;00m\n",
      "File \u001b[0;32m~/Downloads/delta-predict/demo/../utils/iterate.py:82\u001b[0m, in \u001b[0;36mmnist_delta_predict_step_linf\u001b[0;34m(net, batch, batch_idx, device)\u001b[0m\n\u001b[1;32m     79\u001b[0m eps \u001b[38;5;241m=\u001b[39m torch\u001b[38;5;241m.\u001b[39mones_like(labels)\u001b[38;5;241m.\u001b[39mview(\u001b[38;5;241m1\u001b[39m, \u001b[38;5;241m-\u001b[39m\u001b[38;5;241m1\u001b[39m, \u001b[38;5;241m1\u001b[39m, \u001b[38;5;241m1\u001b[39m, \u001b[38;5;241m1\u001b[39m) \u001b[38;5;241m*\u001b[39m \u001b[38;5;241m0.5\u001b[39m\n\u001b[1;32m     81\u001b[0m \u001b[38;5;28;01mfor\u001b[39;00m _ \u001b[38;5;129;01min\u001b[39;00m \u001b[38;5;28mrange\u001b[39m(\u001b[38;5;241m50\u001b[39m):\n\u001b[0;32m---> 82\u001b[0m \tscores_, inputs_ \u001b[38;5;241m=\u001b[39m \u001b[43mforward_samples\u001b[49m\u001b[43m(\u001b[49m\u001b[43mnet\u001b[49m\u001b[43m,\u001b[49m\u001b[43m \u001b[49m\u001b[43msample_uniform_linf_with_clamp\u001b[49m\u001b[43m,\u001b[49m\u001b[43m \u001b[49m\u001b[43minputs\u001b[49m\u001b[43m,\u001b[49m\u001b[43m \u001b[49m\u001b[43meps\u001b[49m\u001b[43m,\u001b[49m\u001b[43m \u001b[49m\u001b[43mnum\u001b[49m\u001b[43m,\u001b[49m\u001b[43m \u001b[49m\u001b[43mbatch_size\u001b[49m\u001b[43m \u001b[49m\u001b[38;5;241;43m=\u001b[39;49m\u001b[43m \u001b[49m\u001b[38;5;241;43m10000\u001b[39;49m\u001b[43m)\u001b[49m\n\u001b[1;32m     83\u001b[0m \t_, max_labels_ \u001b[38;5;241m=\u001b[39m scores_\u001b[38;5;241m.\u001b[39mmax(\u001b[38;5;241m-\u001b[39m\u001b[38;5;241m1\u001b[39m)\n\u001b[1;32m     84\u001b[0m \tcorrect_ \u001b[38;5;241m=\u001b[39m (max_labels_ \u001b[38;5;241m==\u001b[39m labels)\u001b[38;5;241m.\u001b[39mfloat()\u001b[38;5;241m.\u001b[39mmean(dim \u001b[38;5;241m=\u001b[39m \u001b[38;5;241m0\u001b[39m)\u001b[38;5;241m.\u001b[39mview(\u001b[38;5;241m-\u001b[39m\u001b[38;5;241m1\u001b[39m, \u001b[38;5;241m1\u001b[39m, \u001b[38;5;241m1\u001b[39m, \u001b[38;5;241m1\u001b[39m)\n",
      "File \u001b[0;32m~/Downloads/delta-predict/demo/../utils/sampling.py:55\u001b[0m, in \u001b[0;36mforward_samples\u001b[0;34m(net, sample_, x, eps, num, batch_size, **kwargs)\u001b[0m\n\u001b[1;32m     53\u001b[0m outputs \u001b[38;5;241m=\u001b[39m []\n\u001b[1;32m     54\u001b[0m \u001b[38;5;28;01mfor\u001b[39;00m k \u001b[38;5;129;01min\u001b[39;00m \u001b[38;5;28mrange\u001b[39m(\u001b[38;5;28mint\u001b[39m(np\u001b[38;5;241m.\u001b[39mceil(num_inputs \u001b[38;5;241m/\u001b[39m batch_size))):\n\u001b[0;32m---> 55\u001b[0m     outputs\u001b[38;5;241m.\u001b[39mappend(\u001b[43mnet\u001b[49m\u001b[43m(\u001b[49m\u001b[43mall_inputs\u001b[49m\u001b[38;5;241;43m.\u001b[39;49m\u001b[43mview\u001b[49m\u001b[43m(\u001b[49m\u001b[43mnum_inputs\u001b[49m\u001b[43m,\u001b[49m\u001b[43m \u001b[49m\u001b[38;5;241;43m*\u001b[39;49m\u001b[43mx\u001b[49m\u001b[38;5;241;43m.\u001b[39;49m\u001b[43mshape\u001b[49m\u001b[43m[\u001b[49m\u001b[38;5;241;43m1\u001b[39;49m\u001b[43m:\u001b[49m\u001b[43m]\u001b[49m\u001b[43m)\u001b[49m\u001b[43m[\u001b[49m\u001b[43mk\u001b[49m\u001b[43m \u001b[49m\u001b[38;5;241;43m*\u001b[39;49m\u001b[43m \u001b[49m\u001b[43mbatch_size\u001b[49m\u001b[43m:\u001b[49m\u001b[43m \u001b[49m\u001b[43m(\u001b[49m\u001b[43mk\u001b[49m\u001b[43m \u001b[49m\u001b[38;5;241;43m+\u001b[39;49m\u001b[43m \u001b[49m\u001b[38;5;241;43m1\u001b[39;49m\u001b[43m)\u001b[49m\u001b[43m \u001b[49m\u001b[38;5;241;43m*\u001b[39;49m\u001b[43m \u001b[49m\u001b[43mbatch_size\u001b[49m\u001b[43m]\u001b[49m\u001b[43m)\u001b[49m)\n\u001b[1;32m     56\u001b[0m outputs \u001b[38;5;241m=\u001b[39m torch\u001b[38;5;241m.\u001b[39mcat(outputs, dim \u001b[38;5;241m=\u001b[39m \u001b[38;5;241m0\u001b[39m)\u001b[38;5;241m.\u001b[39mview((num \u001b[38;5;241m+\u001b[39m \u001b[38;5;241m1\u001b[39m), \u001b[38;5;28mlen\u001b[39m(x), \u001b[38;5;241m-\u001b[39m\u001b[38;5;241m1\u001b[39m)\n\u001b[1;32m     57\u001b[0m \u001b[38;5;28;01mreturn\u001b[39;00m outputs, all_inputs\n",
      "File \u001b[0;32m~/anaconda3/lib/python3.9/site-packages/torch/nn/modules/module.py:1130\u001b[0m, in \u001b[0;36mModule._call_impl\u001b[0;34m(self, *input, **kwargs)\u001b[0m\n\u001b[1;32m   1126\u001b[0m \u001b[38;5;66;03m# If we don't have any hooks, we want to skip the rest of the logic in\u001b[39;00m\n\u001b[1;32m   1127\u001b[0m \u001b[38;5;66;03m# this function, and just call forward.\u001b[39;00m\n\u001b[1;32m   1128\u001b[0m \u001b[38;5;28;01mif\u001b[39;00m \u001b[38;5;129;01mnot\u001b[39;00m (\u001b[38;5;28mself\u001b[39m\u001b[38;5;241m.\u001b[39m_backward_hooks \u001b[38;5;129;01mor\u001b[39;00m \u001b[38;5;28mself\u001b[39m\u001b[38;5;241m.\u001b[39m_forward_hooks \u001b[38;5;129;01mor\u001b[39;00m \u001b[38;5;28mself\u001b[39m\u001b[38;5;241m.\u001b[39m_forward_pre_hooks \u001b[38;5;129;01mor\u001b[39;00m _global_backward_hooks\n\u001b[1;32m   1129\u001b[0m         \u001b[38;5;129;01mor\u001b[39;00m _global_forward_hooks \u001b[38;5;129;01mor\u001b[39;00m _global_forward_pre_hooks):\n\u001b[0;32m-> 1130\u001b[0m     \u001b[38;5;28;01mreturn\u001b[39;00m \u001b[43mforward_call\u001b[49m\u001b[43m(\u001b[49m\u001b[38;5;241;43m*\u001b[39;49m\u001b[38;5;28;43minput\u001b[39;49m\u001b[43m,\u001b[49m\u001b[43m \u001b[49m\u001b[38;5;241;43m*\u001b[39;49m\u001b[38;5;241;43m*\u001b[39;49m\u001b[43mkwargs\u001b[49m\u001b[43m)\u001b[49m\n\u001b[1;32m   1131\u001b[0m \u001b[38;5;66;03m# Do not call functions when jit is used\u001b[39;00m\n\u001b[1;32m   1132\u001b[0m full_backward_hooks, non_full_backward_hooks \u001b[38;5;241m=\u001b[39m [], []\n",
      "File \u001b[0;32m~/Downloads/delta-predict/demo/../nets/mnist.py:72\u001b[0m, in \u001b[0;36mConvNet.forward\u001b[0;34m(self, x)\u001b[0m\n\u001b[1;32m     70\u001b[0m x \u001b[38;5;241m=\u001b[39m \u001b[38;5;28mself\u001b[39m\u001b[38;5;241m.\u001b[39mconv1(x)\n\u001b[1;32m     71\u001b[0m x \u001b[38;5;241m=\u001b[39m F\u001b[38;5;241m.\u001b[39mrelu(x)\n\u001b[0;32m---> 72\u001b[0m x \u001b[38;5;241m=\u001b[39m \u001b[38;5;28;43mself\u001b[39;49m\u001b[38;5;241;43m.\u001b[39;49m\u001b[43mconv2\u001b[49m\u001b[43m(\u001b[49m\u001b[43mx\u001b[49m\u001b[43m)\u001b[49m\n\u001b[1;32m     73\u001b[0m x \u001b[38;5;241m=\u001b[39m F\u001b[38;5;241m.\u001b[39mrelu(x)\n\u001b[1;32m     74\u001b[0m x \u001b[38;5;241m=\u001b[39m F\u001b[38;5;241m.\u001b[39mmax_pool2d(x, \u001b[38;5;241m2\u001b[39m)\n",
      "File \u001b[0;32m~/anaconda3/lib/python3.9/site-packages/torch/nn/modules/module.py:1130\u001b[0m, in \u001b[0;36mModule._call_impl\u001b[0;34m(self, *input, **kwargs)\u001b[0m\n\u001b[1;32m   1126\u001b[0m \u001b[38;5;66;03m# If we don't have any hooks, we want to skip the rest of the logic in\u001b[39;00m\n\u001b[1;32m   1127\u001b[0m \u001b[38;5;66;03m# this function, and just call forward.\u001b[39;00m\n\u001b[1;32m   1128\u001b[0m \u001b[38;5;28;01mif\u001b[39;00m \u001b[38;5;129;01mnot\u001b[39;00m (\u001b[38;5;28mself\u001b[39m\u001b[38;5;241m.\u001b[39m_backward_hooks \u001b[38;5;129;01mor\u001b[39;00m \u001b[38;5;28mself\u001b[39m\u001b[38;5;241m.\u001b[39m_forward_hooks \u001b[38;5;129;01mor\u001b[39;00m \u001b[38;5;28mself\u001b[39m\u001b[38;5;241m.\u001b[39m_forward_pre_hooks \u001b[38;5;129;01mor\u001b[39;00m _global_backward_hooks\n\u001b[1;32m   1129\u001b[0m         \u001b[38;5;129;01mor\u001b[39;00m _global_forward_hooks \u001b[38;5;129;01mor\u001b[39;00m _global_forward_pre_hooks):\n\u001b[0;32m-> 1130\u001b[0m     \u001b[38;5;28;01mreturn\u001b[39;00m \u001b[43mforward_call\u001b[49m\u001b[43m(\u001b[49m\u001b[38;5;241;43m*\u001b[39;49m\u001b[38;5;28;43minput\u001b[39;49m\u001b[43m,\u001b[49m\u001b[43m \u001b[49m\u001b[38;5;241;43m*\u001b[39;49m\u001b[38;5;241;43m*\u001b[39;49m\u001b[43mkwargs\u001b[49m\u001b[43m)\u001b[49m\n\u001b[1;32m   1131\u001b[0m \u001b[38;5;66;03m# Do not call functions when jit is used\u001b[39;00m\n\u001b[1;32m   1132\u001b[0m full_backward_hooks, non_full_backward_hooks \u001b[38;5;241m=\u001b[39m [], []\n",
      "File \u001b[0;32m~/anaconda3/lib/python3.9/site-packages/torch/nn/modules/conv.py:457\u001b[0m, in \u001b[0;36mConv2d.forward\u001b[0;34m(self, input)\u001b[0m\n\u001b[1;32m    456\u001b[0m \u001b[38;5;28;01mdef\u001b[39;00m \u001b[38;5;21mforward\u001b[39m(\u001b[38;5;28mself\u001b[39m, \u001b[38;5;28minput\u001b[39m: Tensor) \u001b[38;5;241m-\u001b[39m\u001b[38;5;241m>\u001b[39m Tensor:\n\u001b[0;32m--> 457\u001b[0m     \u001b[38;5;28;01mreturn\u001b[39;00m \u001b[38;5;28;43mself\u001b[39;49m\u001b[38;5;241;43m.\u001b[39;49m\u001b[43m_conv_forward\u001b[49m\u001b[43m(\u001b[49m\u001b[38;5;28;43minput\u001b[39;49m\u001b[43m,\u001b[49m\u001b[43m \u001b[49m\u001b[38;5;28;43mself\u001b[39;49m\u001b[38;5;241;43m.\u001b[39;49m\u001b[43mweight\u001b[49m\u001b[43m,\u001b[49m\u001b[43m \u001b[49m\u001b[38;5;28;43mself\u001b[39;49m\u001b[38;5;241;43m.\u001b[39;49m\u001b[43mbias\u001b[49m\u001b[43m)\u001b[49m\n",
      "File \u001b[0;32m~/anaconda3/lib/python3.9/site-packages/torch/nn/modules/conv.py:453\u001b[0m, in \u001b[0;36mConv2d._conv_forward\u001b[0;34m(self, input, weight, bias)\u001b[0m\n\u001b[1;32m    449\u001b[0m \u001b[38;5;28;01mif\u001b[39;00m \u001b[38;5;28mself\u001b[39m\u001b[38;5;241m.\u001b[39mpadding_mode \u001b[38;5;241m!=\u001b[39m \u001b[38;5;124m'\u001b[39m\u001b[38;5;124mzeros\u001b[39m\u001b[38;5;124m'\u001b[39m:\n\u001b[1;32m    450\u001b[0m     \u001b[38;5;28;01mreturn\u001b[39;00m F\u001b[38;5;241m.\u001b[39mconv2d(F\u001b[38;5;241m.\u001b[39mpad(\u001b[38;5;28minput\u001b[39m, \u001b[38;5;28mself\u001b[39m\u001b[38;5;241m.\u001b[39m_reversed_padding_repeated_twice, mode\u001b[38;5;241m=\u001b[39m\u001b[38;5;28mself\u001b[39m\u001b[38;5;241m.\u001b[39mpadding_mode),\n\u001b[1;32m    451\u001b[0m                     weight, bias, \u001b[38;5;28mself\u001b[39m\u001b[38;5;241m.\u001b[39mstride,\n\u001b[1;32m    452\u001b[0m                     _pair(\u001b[38;5;241m0\u001b[39m), \u001b[38;5;28mself\u001b[39m\u001b[38;5;241m.\u001b[39mdilation, \u001b[38;5;28mself\u001b[39m\u001b[38;5;241m.\u001b[39mgroups)\n\u001b[0;32m--> 453\u001b[0m \u001b[38;5;28;01mreturn\u001b[39;00m \u001b[43mF\u001b[49m\u001b[38;5;241;43m.\u001b[39;49m\u001b[43mconv2d\u001b[49m\u001b[43m(\u001b[49m\u001b[38;5;28;43minput\u001b[39;49m\u001b[43m,\u001b[49m\u001b[43m \u001b[49m\u001b[43mweight\u001b[49m\u001b[43m,\u001b[49m\u001b[43m \u001b[49m\u001b[43mbias\u001b[49m\u001b[43m,\u001b[49m\u001b[43m \u001b[49m\u001b[38;5;28;43mself\u001b[39;49m\u001b[38;5;241;43m.\u001b[39;49m\u001b[43mstride\u001b[49m\u001b[43m,\u001b[49m\n\u001b[1;32m    454\u001b[0m \u001b[43m                \u001b[49m\u001b[38;5;28;43mself\u001b[39;49m\u001b[38;5;241;43m.\u001b[39;49m\u001b[43mpadding\u001b[49m\u001b[43m,\u001b[49m\u001b[43m \u001b[49m\u001b[38;5;28;43mself\u001b[39;49m\u001b[38;5;241;43m.\u001b[39;49m\u001b[43mdilation\u001b[49m\u001b[43m,\u001b[49m\u001b[43m \u001b[49m\u001b[38;5;28;43mself\u001b[39;49m\u001b[38;5;241;43m.\u001b[39;49m\u001b[43mgroups\u001b[49m\u001b[43m)\u001b[49m\n",
      "\u001b[0;31mKeyboardInterrupt\u001b[0m: "
     ]
    }
   ],
   "source": [
    "with torch.no_grad():\n",
    "    outputs = iterate.predict(m,\n",
    "                              iterate.mnist_delta_predict_step_linf,\n",
    "                              device = 'cuda',\n",
    "                              val_set = experiment.train_set,\n",
    "                              batch_size = 1000\n",
    "                             )\n",
    "# print(outputs.keys(), outputs['predictions'])\n"
   ]
  },
  {
   "cell_type": "code",
   "execution_count": null,
   "id": "8fe8bf66",
   "metadata": {},
   "outputs": [],
   "source": [
    "# outputs['predictions'] = torch.tensor(outputs['predictions']).squeeze().tolist()\n",
    "# outputs['correct'] = torch.tensor(outputs['correct']).squeeze().tolist()"
   ]
  },
  {
   "cell_type": "code",
   "execution_count": null,
   "id": "1e0f2645",
   "metadata": {},
   "outputs": [],
   "source": [
    "torch.tensor(outputs['samples'][0]).shape"
   ]
  },
  {
   "cell_type": "code",
   "execution_count": null,
   "id": "15ec806e",
   "metadata": {},
   "outputs": [],
   "source": [
    "len(outputs['samples'])"
   ]
  },
  {
   "cell_type": "code",
   "execution_count": null,
   "id": "880152fd",
   "metadata": {},
   "outputs": [],
   "source": [
    "import matplotlib.pyplot as plt\n",
    "\n",
    "plt.hist(outputs['correct'], bins = 100)\n",
    "plt.show()"
   ]
  },
  {
   "cell_type": "code",
   "execution_count": null,
   "id": "a8960919",
   "metadata": {},
   "outputs": [],
   "source": [
    "plt.hist(outputs['predictions'], bins = 100)\n",
    "plt.show()"
   ]
  },
  {
   "cell_type": "code",
   "execution_count": null,
   "id": "cf6f8b9e",
   "metadata": {},
   "outputs": [],
   "source": [
    "import numpy as np\n",
    "from sklearn.neighbors import KDTree\n"
   ]
  },
  {
   "cell_type": "code",
   "execution_count": null,
   "id": "37972c92",
   "metadata": {},
   "outputs": [],
   "source": [
    "train_X = experiment.train_set.data / 255\n",
    "train_X = train_X.view(len(train_X), -1).numpy()\n",
    "train_tree = KDTree(train_X, leaf_size=2)              \n"
   ]
  },
  {
   "cell_type": "code",
   "execution_count": null,
   "id": "ca5860f7",
   "metadata": {},
   "outputs": [],
   "source": [
    "test_X = experiment.val_set.data / 255\n",
    "test_X = test_X.view(len(test_X), -1).numpy()\n",
    "test_tree = KDTree(test_X, leaf_size=2)              \n"
   ]
  },
  {
   "cell_type": "code",
   "execution_count": null,
   "id": "5da83a2a",
   "metadata": {},
   "outputs": [],
   "source": [
    "from tqdm.notebook import trange\n",
    "all_in = set()\n",
    "for i in trange(len(train_X)):\n",
    "    ind = test_tree.query_radius(train_X[i:i+1], r=outputs['predictions'][i])\n",
    "    all_in.update(set(ind[0].tolist()))\n",
    "    if len(all_in) == len(test_X):\n",
    "        break\n",
    "\n",
    "# ind = tree.query_radius(X[:1], r=0.3)  \n",
    "# print(ind)  # indices of neighbors within distance 0.3\n"
   ]
  },
  {
   "cell_type": "code",
   "execution_count": null,
   "id": "650e6c35",
   "metadata": {},
   "outputs": [],
   "source": [
    "len(all_in)"
   ]
  },
  {
   "cell_type": "code",
   "execution_count": null,
   "id": "b398153d",
   "metadata": {},
   "outputs": [],
   "source": [
    "import random\n",
    "\n",
    "ka = random.randint(0, 60000)\n",
    "kb = random.randint(0, 60000)\n",
    "ka = 2730\n",
    "kb = 17695\n",
    "ka = 102\n",
    "kb = 34531\n",
    "print(ka, kb)\n",
    "a = experiment.train_set.data[ka].repeat(1, 1, 1, 1) / 255\n",
    "b = experiment.train_set.data[kb].repeat(1, 1, 1, 1) / 255\n",
    "la = experiment.train_set.targets[ka]\n",
    "lb = experiment.train_set.targets[kb]\n",
    "\n",
    "figure, ax = plt.subplots(1, 2)\n",
    "ax[0].imshow(a.squeeze())\n",
    "ax[1].imshow(b.squeeze())\n",
    "plt.show()\n",
    "a = a.cuda()\n",
    "b = b.cuda()\n",
    "\n",
    "\n"
   ]
  },
  {
   "cell_type": "code",
   "execution_count": null,
   "id": "755ffbb5",
   "metadata": {},
   "outputs": [],
   "source": [
    "from utils.sampling import sample_uniform_linf_with_clamp, sample_uniform_l2, forward_samples\n"
   ]
  },
  {
   "cell_type": "code",
   "execution_count": null,
   "id": "d6349cd7",
   "metadata": {},
   "outputs": [],
   "source": [
    "rate_a = []\n",
    "epsilons = np.linspace(0.1, 0.9, 90)\n",
    "for eps in epsilons:\n",
    "    scores_a, inputs_a = forward_samples(m, sample_uniform_linf_with_clamp, a, eps, 1000, batch_size = 10000)\n",
    "    rate_a.append((scores_a.argmax(-1) == la).sum().item())\n",
    "\n",
    "plt.plot(epsilons, rate_a)"
   ]
  },
  {
   "cell_type": "code",
   "execution_count": null,
   "id": "13c021ce",
   "metadata": {},
   "outputs": [],
   "source": [
    "rate_b = []\n",
    "epsilons = np.linspace(0.1, 0.9, 90)\n",
    "for eps in epsilons:\n",
    "    scores_b, inputs_b = forward_samples(m, sample_uniform_linf_with_clamp, b, eps, 1000, batch_size = 10000)\n",
    "    rate_b.append((scores_b.argmax(-1) == lb).sum().item())\n",
    "\n",
    "plt.plot(epsilons, rate_b)"
   ]
  },
  {
   "cell_type": "code",
   "execution_count": null,
   "id": "245921e5",
   "metadata": {},
   "outputs": [],
   "source": [
    "mid = (a + b) / 2\n",
    "eps = torch.where(a > b, a, b) / 2\n",
    "scores_mid, inputs_mid = forward_samples(m, sample_uniform_linf_with_clamp, mid, eps, 1000, batch_size = 10000)\n",
    "\n",
    "# rate_mid = []\n",
    "# epsilons = np.linspace(0.1, 0.9, 90)\n",
    "# for eps in epsilons:\n",
    "#     scores_mid, inputs_mid = forward_samples(m, sample_uniform_linf_with_clamp, b, eps, 1000, batch_size = 10000)\n",
    "#     rate_mid.append((scores_b.argmax(-1) == lb).sum().item())\n",
    "\n",
    "# plt.plot(epsilons, rate_b)"
   ]
  },
  {
   "cell_type": "code",
   "execution_count": null,
   "id": "a311853b",
   "metadata": {},
   "outputs": [],
   "source": [
    "plt.imshow(mid.cpu().squeeze())"
   ]
  },
  {
   "cell_type": "code",
   "execution_count": null,
   "id": "941e378c",
   "metadata": {},
   "outputs": [],
   "source": [
    "plt.hist(scores_mid.argmax(-1).squeeze().tolist(), bins = 100)"
   ]
  },
  {
   "cell_type": "code",
   "execution_count": null,
   "id": "9926e075",
   "metadata": {},
   "outputs": [],
   "source": [
    "plt.imshow(xj.squeeze())"
   ]
  },
  {
   "cell_type": "code",
   "execution_count": null,
   "id": "0d1a42fd",
   "metadata": {},
   "outputs": [],
   "source": [
    "dt = experiment.train_set.data.view(60000, 1, -1) - experiment.train_set.data.view(1, 60000, -1)\n",
    "dt.shape"
   ]
  },
  {
   "cell_type": "code",
   "execution_count": null,
   "id": "27e2c064",
   "metadata": {},
   "outputs": [],
   "source": [
    "dt.abs().view(60000, -1).max(-1)"
   ]
  },
  {
   "cell_type": "code",
   "execution_count": 5,
   "id": "68bc94aa",
   "metadata": {},
   "outputs": [],
   "source": [
    "import numpy as np\n",
    "my_linf = np.empty((len(experiment.train_set), len(experiment.val_set)))\n",
    "\n",
    "for i in range(len(experiment.train_set)):\n",
    "    for j in range(len(experiment.val_set)):\n",
    "        xi, li = experiment.train_set[i]\n",
    "        xj, lj = experiment.train_set[j]\n",
    "        linf = (xi - xj).abs().max().item()\n",
    "        my_linf[i, j] = linf\n",
    "#         if linf < min_linf:\n",
    "#             my_list.append((i, j, linf))\n",
    "#             if li != lj:\n",
    "#                 print(my_list[-1])\n",
    "#                 min_linf = linf"
   ]
  },
  {
   "cell_type": "code",
   "execution_count": 12,
   "id": "3ef44297",
   "metadata": {},
   "outputs": [],
   "source": [
    "my_linf[my_linf == 0] = 2"
   ]
  },
  {
   "cell_type": "code",
   "execution_count": 18,
   "id": "26710042",
   "metadata": {},
   "outputs": [
    {
     "data": {
      "image/png": "[encoded data removed]",
      "text/plain": [
       "<Figure size 432x288 with 1 Axes>"
      ]
     },
     "metadata": {
      "needs_background": "light"
     },
     "output_type": "display_data"
    }
   ],
   "source": [
    "plt.hist(my_linf.min(0), bins = 100)\n",
    "plt.show()"
   ]
  }
 ],
 "metadata": {
  "kernelspec": {
   "display_name": "Python 3 (ipykernel)",
   "language": "python",
   "name": "python3"
  },
  "language_info": {
   "codemirror_mode": {
    "name": "ipython",
    "version": 3
   },
   "file_extension": ".py",
   "mimetype": "text/x-python",
   "name": "python",
   "nbconvert_exporter": "python",
   "pygments_lexer": "ipython3",
   "version": "3.9.12"
  }
 },
 "nbformat": 4,
 "nbformat_minor": 5
}
