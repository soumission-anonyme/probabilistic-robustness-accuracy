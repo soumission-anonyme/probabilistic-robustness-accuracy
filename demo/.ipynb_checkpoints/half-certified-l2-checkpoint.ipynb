{
 "cells": [
  {
   "cell_type": "code",
   "execution_count": 1,
   "id": "dad2b2e4",
   "metadata": {},
   "outputs": [],
   "source": [
    "# !git add .\n",
    "# !git commit -m tolist\n",
    "# !git push"
   ]
  },
  {
   "cell_type": "code",
   "execution_count": 2,
   "id": "9c6c042e",
   "metadata": {},
   "outputs": [],
   "source": [
    "import sys\n",
    "sys.path.append('../')"
   ]
  },
  {
   "cell_type": "code",
   "execution_count": null,
   "id": "b63573c9",
   "metadata": {},
   "outputs": [],
   "source": [
    "import torch\n",
    "import torch.nn.functional as F\n",
    "\n",
    "from utils import experiment, iterate\n",
    "from nets.mnist import ConvNet\n",
    "\n",
    "m = ConvNet()\n",
    "m = m.to('cuda' if torch.cuda.is_available() else 'cpu')\n",
    "\n",
    "# ckpt = 'checkpoints/ConvNet.pt'\n",
    "ckpt = '../checkpoints/ConvNet_TRADES.pt'\n",
    "# ckpt = 'checkpoints/ConvNet_CVaR.pt'\n",
    "\n",
    "m.load_state_dict({k:torch.load(ckpt)[k] for k in m.state_dict()})\n",
    "\n"
   ]
  },
  {
   "cell_type": "code",
   "execution_count": null,
   "id": "fd80923d",
   "metadata": {},
   "outputs": [],
   "source": [
    "with torch.no_grad():\n",
    "    outputs = iterate.predict(m,\n",
    "                              iterate.mnist_delta_predict_step_l2,\n",
    "                              device = 'cuda',\n",
    "                              val_set = experiment.train_set,\n",
    "                              batch_size = 1000\n",
    "                             )\n",
    "# print(outputs.keys(), outputs['predictions'])\n"
   ]
  },
  {
   "cell_type": "code",
   "execution_count": null,
   "id": "8fe8bf66",
   "metadata": {},
   "outputs": [],
   "source": [
    "# outputs['predictions'] = torch.tensor(outputs['predictions']).squeeze().tolist()\n",
    "# outputs['correct'] = torch.tensor(outputs['correct']).squeeze().tolist()"
   ]
  },
  {
   "cell_type": "code",
   "execution_count": null,
   "id": "cfd84a34",
   "metadata": {},
   "outputs": [],
   "source": [
    "torch.tensor(outputs['samples'][0]).shape"
   ]
  },
  {
   "cell_type": "code",
   "execution_count": null,
   "id": "c829fb1b",
   "metadata": {},
   "outputs": [],
   "source": [
    "len(outputs['samples'])"
   ]
  },
  {
   "cell_type": "code",
   "execution_count": null,
   "id": "880152fd",
   "metadata": {},
   "outputs": [],
   "source": [
    "import matplotlib.pyplot as plt\n",
    "\n",
    "plt.hist(outputs['correct'], bins = 100)\n",
    "plt.show()"
   ]
  },
  {
   "cell_type": "code",
   "execution_count": null,
   "id": "a8960919",
   "metadata": {},
   "outputs": [],
   "source": [
    "plt.hist(outputs['predictions'], bins = 100)\n",
    "plt.show()"
   ]
  },
  {
   "cell_type": "code",
   "execution_count": null,
   "id": "cf6f8b9e",
   "metadata": {},
   "outputs": [],
   "source": [
    "import numpy as np\n",
    "from sklearn.neighbors import KDTree\n"
   ]
  },
  {
   "cell_type": "code",
   "execution_count": null,
   "id": "37972c92",
   "metadata": {},
   "outputs": [],
   "source": [
    "train_X = experiment.train_set.data / 255\n",
    "train_X = train_X.view(len(train_X), -1).numpy()\n",
    "train_tree = KDTree(train_X, leaf_size=2)              \n"
   ]
  },
  {
   "cell_type": "code",
   "execution_count": null,
   "id": "ca5860f7",
   "metadata": {},
   "outputs": [],
   "source": [
    "test_X = experiment.val_set.data / 255\n",
    "test_X = test_X.view(len(test_X), -1).numpy()\n",
    "test_tree = KDTree(test_X, leaf_size=2)              \n"
   ]
  },
  {
   "cell_type": "code",
   "execution_count": null,
   "id": "5da83a2a",
   "metadata": {},
   "outputs": [],
   "source": [
    "from tqdm.notebook import trange\n",
    "all_in = set()\n",
    "for i in trange(len(train_X)):\n",
    "    ind = test_tree.query_radius(train_X[i:i+1], r=outputs['predictions'][i])\n",
    "    all_in.update(set(ind[0].tolist()))\n",
    "    if len(all_in) == len(test_X):\n",
    "        break\n",
    "\n",
    "# ind = tree.query_radius(X[:1], r=0.3)  \n",
    "# print(ind)  # indices of neighbors within distance 0.3\n"
   ]
  },
  {
   "cell_type": "code",
   "execution_count": null,
   "id": "650e6c35",
   "metadata": {},
   "outputs": [],
   "source": [
    "len(all_in)"
   ]
  },
  {
   "cell_type": "code",
   "execution_count": null,
   "id": "139e8120",
   "metadata": {},
   "outputs": [],
   "source": [
    "import random\n",
    "\n",
    "ka = random.randint(0, 60000)\n",
    "kb = random.randint(0, 60000)\n",
    "print(ka, kb)\n",
    "a = experiment.train_set.data[ka].repeat(1, 1, 1, 1) / 255\n",
    "b = experiment.train_set.data[kb].repeat(1, 1, 1, 1) / 255\n",
    "la = experiment.train_set.targets[ka]\n",
    "lb = experiment.train_set.targets[kb]\n",
    "\n",
    "figure, ax = plt.subplots(1, 2)\n",
    "ax[0].imshow(a.squeeze())\n",
    "ax[1].imshow(b.squeeze())\n",
    "plt.show()\n",
    "a = a.cuda()\n",
    "b = b.cuda()\n",
    "\n",
    "\n"
   ]
  },
  {
   "cell_type": "code",
   "execution_count": null,
   "id": "098b09be",
   "metadata": {},
   "outputs": [],
   "source": [
    "from utils.sampling import sample_uniform_l2, forward_samples\n"
   ]
  },
  {
   "cell_type": "code",
   "execution_count": null,
   "id": "33242821",
   "metadata": {},
   "outputs": [],
   "source": [
    "rate_a = []\n",
    "epsilons = np.linspace(0.1, 28, 90)\n",
    "for eps in epsilons:\n",
    "    scores_a, inputs_a = forward_samples(m, sample_uniform_l2, a, eps, 1000, batch_size = 10000)\n",
    "    rate_a.append((scores_a.argmax(-1) == la).sum().item())\n",
    "\n",
    "plt.plot(epsilons, rate_a)"
   ]
  },
  {
   "cell_type": "code",
   "execution_count": null,
   "id": "6082e2a2",
   "metadata": {},
   "outputs": [],
   "source": [
    "rate_b = []\n",
    "epsilons = np.linspace(0.1, 28, 90)\n",
    "for eps in epsilons:\n",
    "    scores_b, inputs_b = forward_samples(m, sample_uniform_l2, b, eps, 1000, batch_size = 10000)\n",
    "    rate_b.append((scores_b.argmax(-1) == lb).sum().item())\n",
    "\n",
    "plt.plot(epsilons, rate_b)"
   ]
  },
  {
   "cell_type": "code",
   "execution_count": null,
   "id": "6f198bf5",
   "metadata": {},
   "outputs": [],
   "source": [
    "mid = (a + b) / 2\n",
    "eps = torch.where(a > b, a, b) / 2\n",
    "scores_mid, inputs_mid = forward_samples(m, sample_uniform_l2, mid, eps, 1000, batch_size = 10000)\n"
   ]
  },
  {
   "cell_type": "code",
   "execution_count": null,
   "id": "0ea679ca",
   "metadata": {},
   "outputs": [],
   "source": [
    "plt.imshow(mid.cpu().squeeze())"
   ]
  },
  {
   "cell_type": "code",
   "execution_count": null,
   "id": "285633af",
   "metadata": {},
   "outputs": [],
   "source": [
    "((a - b) ** 2).sum() ** 0.5"
   ]
  },
  {
   "cell_type": "code",
   "execution_count": null,
   "id": "81f9087b",
   "metadata": {},
   "outputs": [],
   "source": [
    "plt.hist(scores_mid.argmax(-1).squeeze().tolist(), bins = 100)\n",
    "plt.show()"
   ]
  }
 ],
 "metadata": {
  "kernelspec": {
   "display_name": "Python 3 (ipykernel)",
   "language": "python",
   "name": "python3"
  },
  "language_info": {
   "codemirror_mode": {
    "name": "ipython",
    "version": 3
   },
   "file_extension": ".py",
   "mimetype": "text/x-python",
   "name": "python",
   "nbconvert_exporter": "python",
   "pygments_lexer": "ipython3",
   "version": "3.9.12"
  }
 },
 "nbformat": 4,
 "nbformat_minor": 5
}
