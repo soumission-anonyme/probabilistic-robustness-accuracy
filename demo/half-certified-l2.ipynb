{
 "cells": [
  {
   "cell_type": "code",
   "execution_count": 1,
   "id": "dad2b2e4",
   "metadata": {},
   "outputs": [],
   "source": [
    "# !git add .\n",
    "# !git commit -m tolist\n",
    "# !git push"
   ]
  },
  {
   "cell_type": "code",
   "execution_count": 1,
   "id": "9c6c042e",
   "metadata": {},
   "outputs": [],
   "source": [
    "import sys\n",
    "sys.path.append('../')"
   ]
  },
  {
   "cell_type": "code",
   "execution_count": 2,
   "id": "b63573c9",
   "metadata": {},
   "outputs": [
    {
     "data": {
      "text/plain": [
       "<All keys matched successfully>"
      ]
     },
     "execution_count": 2,
     "metadata": {},
     "output_type": "execute_result"
    }
   ],
   "source": [
    "import torch\n",
    "import torch.nn.functional as F\n",
    "\n",
    "from utils import experiment, iterate\n",
    "from nets.mnist import ConvNet\n",
    "\n",
    "m = ConvNet()\n",
    "m = m.to('cuda' if torch.cuda.is_available() else 'cpu')\n",
    "\n",
    "# ckpt = 'checkpoints/ConvNet.pt'\n",
    "ckpt = '../checkpoints/ConvNet_TRADES.pt'\n",
    "# ckpt = 'checkpoints/ConvNet_CVaR.pt'\n",
    "\n",
    "m.load_state_dict({k:torch.load(ckpt)[k] for k in m.state_dict()})\n",
    "\n"
   ]
  },
  {
   "cell_type": "code",
   "execution_count": 4,
   "id": "fd80923d",
   "metadata": {},
   "outputs": [],
   "source": [
    "with torch.no_grad():\n",
    "    outputs = iterate.predict(m,\n",
    "                              iterate.mnist_delta_predict_step_l2,\n",
    "                              device = 'cuda',\n",
    "                              val_set = experiment.train_set,\n",
    "                              batch_size = 1000\n",
    "                             )\n",
    "# print(outputs.keys(), outputs['predictions'])\n"
   ]
  },
  {
   "cell_type": "code",
   "execution_count": 5,
   "id": "8fe8bf66",
   "metadata": {},
   "outputs": [],
   "source": [
    "# outputs['predictions'] = torch.tensor(outputs['predictions']).squeeze().tolist()\n",
    "# outputs['correct'] = torch.tensor(outputs['correct']).squeeze().tolist()"
   ]
  },
  {
   "cell_type": "code",
   "execution_count": 6,
   "id": "880152fd",
   "metadata": {},
   "outputs": [
    {
     "data": {
      "image/png": "[encoded data removed]",
      "text/plain": [
       "<Figure size 432x288 with 1 Axes>"
      ]
     },
     "metadata": {
      "needs_background": "light"
     },
     "output_type": "display_data"
    }
   ],
   "source": [
    "import matplotlib.pyplot as plt\n",
    "\n",
    "plt.hist(outputs['correct'], bins = 100)\n",
    "plt.show()"
   ]
  },
  {
   "cell_type": "code",
   "execution_count": 7,
   "id": "a8960919",
   "metadata": {},
   "outputs": [
    {
     "data": {
      "image/png": "[encoded data removed]",
      "text/plain": [
       "<Figure size 432x288 with 1 Axes>"
      ]
     },
     "metadata": {
      "needs_background": "light"
     },
     "output_type": "display_data"
    }
   ],
   "source": [
    "plt.hist(outputs['predictions'], bins = 100)\n",
    "plt.show()"
   ]
  },
  {
   "cell_type": "code",
   "execution_count": 3,
   "id": "cf6f8b9e",
   "metadata": {},
   "outputs": [],
   "source": [
    "import numpy as np\n",
    "from sklearn.neighbors import KDTree\n"
   ]
  },
  {
   "cell_type": "code",
   "execution_count": 6,
   "id": "37972c92",
   "metadata": {},
   "outputs": [],
   "source": [
    "train_X = experiment.train_set.data / 255\n",
    "train_X = train_X.view(len(train_X), -1).numpy()\n",
    "train_tree = KDTree(train_X, leaf_size=2)              \n"
   ]
  },
  {
   "cell_type": "code",
   "execution_count": 4,
   "id": "ca5860f7",
   "metadata": {},
   "outputs": [],
   "source": [
    "test_X = experiment.val_set.data / 255\n",
    "test_X = test_X.view(len(test_X), -1).numpy()\n",
    "test_tree = KDTree(test_X, leaf_size=2)              \n"
   ]
  },
  {
   "cell_type": "code",
   "execution_count": 17,
   "id": "796613b5",
   "metadata": {},
   "outputs": [],
   "source": [
    "dist, ind = train_tree.query(test_X, k = 3)\n",
    "\n",
    "# ind = tree.query_radius(X[:1], r=0.3)  \n",
    "# print(ind)  # indices of neighbors within distance 0.3\n"
   ]
  },
  {
   "cell_type": "code",
   "execution_count": 18,
   "id": "c597bc42",
   "metadata": {},
   "outputs": [
    {
     "data": {
      "text/plain": [
       "(array([[2.65327087, 3.11367363, 3.3830457 ],\n",
       "        [4.56051623, 4.75233123, 5.0428567 ],\n",
       "        [1.26142301, 1.30377855, 1.33744462],\n",
       "        ...,\n",
       "        [3.86491829, 4.0891902 , 4.28055521],\n",
       "        [5.15203235, 5.23888692, 5.40504272],\n",
       "        [3.97997873, 4.80850204, 5.10451476]]),\n",
       " array([[53843, 38620, 16186],\n",
       "        [28882, 49160, 24612],\n",
       "        [58741, 46512, 15224],\n",
       "        ...,\n",
       "        [ 3261, 58994, 35362],\n",
       "        [36407,  1311,  6011],\n",
       "        [22424,  5179,  5329]]))"
      ]
     },
     "execution_count": 18,
     "metadata": {},
     "output_type": "execute_result"
    }
   ],
   "source": [
    "dist, ind"
   ]
  },
  {
   "cell_type": "code",
   "execution_count": 69,
   "id": "8ed2285f",
   "metadata": {},
   "outputs": [
    {
     "data": {
      "text/plain": [
       "tensor([7, 2, 1,  ..., 4, 5, 6])"
      ]
     },
     "execution_count": 69,
     "metadata": {},
     "output_type": "execute_result"
    }
   ],
   "source": [
    "experiment.train_set.targets[ind][:, 0]"
   ]
  },
  {
   "cell_type": "code",
   "execution_count": 71,
   "id": "1496eceb",
   "metadata": {},
   "outputs": [
    {
     "data": {
      "text/plain": [
       "tensor(9691)"
      ]
     },
     "execution_count": 71,
     "metadata": {},
     "output_type": "execute_result"
    }
   ],
   "source": [
    "sum(experiment.val_set.targets == experiment.train_set.targets[ind][:, 0])"
   ]
  },
  {
   "cell_type": "code",
   "execution_count": 25,
   "id": "d1fe4491",
   "metadata": {},
   "outputs": [
    {
     "data": {
      "image/png": "[encoded data removed]",
      "text/plain": [
       "<Figure size 432x288 with 1 Axes>"
      ]
     },
     "metadata": {
      "needs_background": "light"
     },
     "output_type": "display_data"
    }
   ],
   "source": [
    "import matplotlib.pyplot as plt\n",
    "plt.hist(dist.min(1), bins = 100)\n",
    "plt.show()"
   ]
  },
  {
   "cell_type": "code",
   "execution_count": 11,
   "id": "5da83a2a",
   "metadata": {},
   "outputs": [
    {
     "data": {
      "application/vnd.jupyter.widget-view+json": {
       "model_id": "07d9fbeea6de4a72bf33b416cf12ff62",
       "version_major": 2,
       "version_minor": 0
      },
      "text/plain": [
       "  0%|          | 0/60000 [00:00<?, ?it/s]"
      ]
     },
     "metadata": {},
     "output_type": "display_data"
    }
   ],
   "source": [
    "from tqdm.notebook import trange\n",
    "all_in = set()\n",
    "for i in trange(len(train_X)):\n",
    "    ind = test_tree.query_radius(train_X[i:i+1], r=outputs['predictions'][i])\n",
    "    all_in.update(set(ind[0].tolist()))\n",
    "    if len(all_in) == len(test_X):\n",
    "        break\n",
    "\n",
    "# ind = tree.query_radius(X[:1], r=0.3)  \n",
    "# print(ind)  # indices of neighbors within distance 0.3\n"
   ]
  },
  {
   "cell_type": "code",
   "execution_count": 12,
   "id": "650e6c35",
   "metadata": {},
   "outputs": [
    {
     "data": {
      "text/plain": [
       "10000"
      ]
     },
     "execution_count": 12,
     "metadata": {},
     "output_type": "execute_result"
    }
   ],
   "source": [
    "len(all_in)"
   ]
  },
  {
   "cell_type": "code",
   "execution_count": 30,
   "id": "139e8120",
   "metadata": {},
   "outputs": [
    {
     "name": "stdout",
     "output_type": "stream",
     "text": [
      "41466 55161\n"
     ]
    },
    {
     "data": {
      "image/png": "[encoded data removed]",
      "text/plain": [
       "<Figure size 432x288 with 2 Axes>"
      ]
     },
     "metadata": {
      "needs_background": "light"
     },
     "output_type": "display_data"
    }
   ],
   "source": [
    "import random\n",
    "\n",
    "ka = random.randint(0, 60000)\n",
    "kb = random.randint(0, 60000)\n",
    "print(ka, kb)\n",
    "a = experiment.train_set.data[ka].repeat(1, 1, 1, 1) / 255\n",
    "b = experiment.train_set.data[kb].repeat(1, 1, 1, 1) / 255\n",
    "la = experiment.train_set.targets[ka]\n",
    "lb = experiment.train_set.targets[kb]\n",
    "\n",
    "figure, ax = plt.subplots(1, 2)\n",
    "ax[0].imshow(a.squeeze())\n",
    "ax[1].imshow(b.squeeze())\n",
    "plt.show()\n",
    "a = a.cuda()\n",
    "b = b.cuda()\n",
    "\n",
    "\n"
   ]
  },
  {
   "cell_type": "code",
   "execution_count": 31,
   "id": "098b09be",
   "metadata": {},
   "outputs": [],
   "source": [
    "from utils.sampling import sample_uniform_l2, forward_samples\n"
   ]
  },
  {
   "cell_type": "code",
   "execution_count": 32,
   "id": "33242821",
   "metadata": {},
   "outputs": [
    {
     "data": {
      "text/plain": [
       "[<matplotlib.lines.Line2D at 0x7f13920da0a0>]"
      ]
     },
     "execution_count": 32,
     "metadata": {},
     "output_type": "execute_result"
    },
    {
     "data": {
      "image/png": "[encoded data removed]",
      "text/plain": [
       "<Figure size 432x288 with 1 Axes>"
      ]
     },
     "metadata": {
      "needs_background": "light"
     },
     "output_type": "display_data"
    }
   ],
   "source": [
    "rate_a = []\n",
    "epsilons = np.linspace(0.1, 28, 90)\n",
    "for eps in epsilons:\n",
    "    scores_a, inputs_a = forward_samples(m, sample_uniform_l2, a, eps, 1000, batch_size = 10000)\n",
    "    rate_a.append((scores_a.argmax(-1) == la).sum().item())\n",
    "\n",
    "plt.plot(epsilons, rate_a)"
   ]
  },
  {
   "cell_type": "code",
   "execution_count": 61,
   "id": "96391289",
   "metadata": {},
   "outputs": [
    {
     "data": {
      "text/plain": [
       "<matplotlib.image.AxesImage at 0x7f129955ce50>"
      ]
     },
     "execution_count": 61,
     "metadata": {},
     "output_type": "execute_result"
    },
    {
     "data": {
      "image/png": "[encoded data removed]",
      "text/plain": [
       "<Figure size 432x288 with 1 Axes>"
      ]
     },
     "metadata": {
      "needs_background": "light"
     },
     "output_type": "display_data"
    }
   ],
   "source": [
    "plt.imshow(inputs_a[5].squeeze().cpu())"
   ]
  },
  {
   "cell_type": "code",
   "execution_count": 33,
   "id": "6082e2a2",
   "metadata": {},
   "outputs": [
    {
     "data": {
      "text/plain": [
       "[<matplotlib.lines.Line2D at 0x7f138ff34400>]"
      ]
     },
     "execution_count": 33,
     "metadata": {},
     "output_type": "execute_result"
    },
    {
     "data": {
      "image/png": "[encoded data removed]",
      "text/plain": [
       "<Figure size 432x288 with 1 Axes>"
      ]
     },
     "metadata": {
      "needs_background": "light"
     },
     "output_type": "display_data"
    }
   ],
   "source": [
    "rate_b = []\n",
    "epsilons = np.linspace(0.1, 28, 90)\n",
    "for eps in epsilons:\n",
    "    scores_b, inputs_b = forward_samples(m, sample_uniform_l2, b, eps, 1000, batch_size = 10000)\n",
    "    rate_b.append((scores_b.argmax(-1) == lb).sum().item())\n",
    "\n",
    "plt.plot(epsilons, rate_b)"
   ]
  },
  {
   "cell_type": "code",
   "execution_count": 34,
   "id": "6f198bf5",
   "metadata": {},
   "outputs": [],
   "source": [
    "mid = (a + b) / 2\n",
    "eps = torch.where(a > b, a, b) / 2\n",
    "scores_mid, inputs_mid = forward_samples(m, sample_uniform_l2, mid, eps, 1000, batch_size = 10000)\n"
   ]
  },
  {
   "cell_type": "code",
   "execution_count": 35,
   "id": "eb05b861",
   "metadata": {},
   "outputs": [
    {
     "data": {
      "text/plain": [
       "<matplotlib.image.AxesImage at 0x7f138ffa5970>"
      ]
     },
     "execution_count": 35,
     "metadata": {},
     "output_type": "execute_result"
    },
    {
     "data": {
      "image/png": "[encoded data removed]",
      "text/plain": [
       "<Figure size 432x288 with 1 Axes>"
      ]
     },
     "metadata": {
      "needs_background": "light"
     },
     "output_type": "display_data"
    }
   ],
   "source": [
    "plt.imshow(mid.cpu().squeeze())"
   ]
  },
  {
   "cell_type": "code",
   "execution_count": 36,
   "id": "0f2e8432",
   "metadata": {},
   "outputs": [
    {
     "data": {
      "text/plain": [
       "tensor(9.8612, device='cuda:0')"
      ]
     },
     "execution_count": 36,
     "metadata": {},
     "output_type": "execute_result"
    }
   ],
   "source": [
    "((a - b) ** 2).sum() ** 0.5"
   ]
  },
  {
   "cell_type": "code",
   "execution_count": 37,
   "id": "0267680c",
   "metadata": {},
   "outputs": [
    {
     "data": {
      "image/png": "[encoded data removed]",
      "text/plain": [
       "<Figure size 432x288 with 1 Axes>"
      ]
     },
     "metadata": {
      "needs_background": "light"
     },
     "output_type": "display_data"
    }
   ],
   "source": [
    "plt.hist(scores_mid.argmax(-1).squeeze().tolist(), bins = 100)\n",
    "plt.show()"
   ]
  },
  {
   "cell_type": "code",
   "execution_count": 57,
   "id": "26c53671",
   "metadata": {},
   "outputs": [
    {
     "data": {
      "text/plain": [
       "(array([2.0000e+00, 0.0000e+00, 0.0000e+00, 0.0000e+00, 0.0000e+00,\n",
       "        0.0000e+00, 0.0000e+00, 0.0000e+00, 0.0000e+00, 0.0000e+00,\n",
       "        0.0000e+00, 0.0000e+00, 1.0000e+00, 1.0000e+00, 0.0000e+00,\n",
       "        0.0000e+00, 3.0000e+00, 2.0000e+00, 0.0000e+00, 1.0000e+00,\n",
       "        1.0000e+00, 0.0000e+00, 0.0000e+00, 0.0000e+00, 0.0000e+00,\n",
       "        1.0000e+00, 0.0000e+00, 1.0000e+00, 2.0000e+00, 2.0000e+00,\n",
       "        1.0000e+00, 7.0000e+00, 3.0000e+00, 1.0000e+00, 3.0000e+00,\n",
       "        2.0000e+00, 3.0000e+00, 4.0000e+00, 5.0000e+00, 8.0000e+00,\n",
       "        3.0000e+00, 1.0000e+01, 1.2000e+01, 1.2000e+01, 1.1000e+01,\n",
       "        1.3000e+01, 1.4000e+01, 1.6000e+01, 1.5000e+01, 1.8000e+01,\n",
       "        2.6000e+01, 2.2000e+01, 3.5000e+01, 4.4000e+01, 4.3000e+01,\n",
       "        4.5000e+01, 4.3000e+01, 5.6000e+01, 7.5000e+01, 9.3000e+01,\n",
       "        8.2000e+01, 8.2000e+01, 1.1900e+02, 1.4200e+02, 1.6700e+02,\n",
       "        1.7100e+02, 2.0800e+02, 2.1400e+02, 2.3700e+02, 2.7600e+02,\n",
       "        3.1200e+02, 3.3400e+02, 4.3100e+02, 4.1300e+02, 5.4600e+02,\n",
       "        5.7900e+02, 6.7800e+02, 7.6600e+02, 8.5800e+02, 1.0130e+03,\n",
       "        1.0950e+03, 1.1900e+03, 1.4250e+03, 1.5770e+03, 1.8590e+03,\n",
       "        2.0900e+03, 2.3440e+03, 2.6700e+03, 2.9040e+03, 3.3850e+03,\n",
       "        3.7660e+03, 4.2640e+03, 4.9300e+03, 5.7260e+03, 6.2530e+03,\n",
       "        7.0180e+03, 7.9880e+03, 9.1860e+03, 1.0256e+04, 1.1786e+04]),\n",
       " array([4.9204669 , 4.92126223, 4.92205756, 4.92285289, 4.92364822,\n",
       "        4.92444355, 4.92523889, 4.92603422, 4.92682955, 4.92762488,\n",
       "        4.92842021, 4.92921554, 4.93001087, 4.9308062 , 4.93160153,\n",
       "        4.93239686, 4.9331922 , 4.93398753, 4.93478286, 4.93557819,\n",
       "        4.93637352, 4.93716885, 4.93796418, 4.93875951, 4.93955484,\n",
       "        4.94035017, 4.94114551, 4.94194084, 4.94273617, 4.9435315 ,\n",
       "        4.94432683, 4.94512216, 4.94591749, 4.94671282, 4.94750815,\n",
       "        4.94830348, 4.94909882, 4.94989415, 4.95068948, 4.95148481,\n",
       "        4.95228014, 4.95307547, 4.9538708 , 4.95466613, 4.95546146,\n",
       "        4.95625679, 4.95705213, 4.95784746, 4.95864279, 4.95943812,\n",
       "        4.96023345, 4.96102878, 4.96182411, 4.96261944, 4.96341477,\n",
       "        4.9642101 , 4.96500544, 4.96580077, 4.9665961 , 4.96739143,\n",
       "        4.96818676, 4.96898209, 4.96977742, 4.97057275, 4.97136808,\n",
       "        4.97216341, 4.97295875, 4.97375408, 4.97454941, 4.97534474,\n",
       "        4.97614007, 4.9769354 , 4.97773073, 4.97852606, 4.97932139,\n",
       "        4.98011672, 4.98091206, 4.98170739, 4.98250272, 4.98329805,\n",
       "        4.98409338, 4.98488871, 4.98568404, 4.98647937, 4.9872747 ,\n",
       "        4.98807003, 4.98886537, 4.9896607 , 4.99045603, 4.99125136,\n",
       "        4.99204669, 4.99284202, 4.99363735, 4.99443268, 4.99522801,\n",
       "        4.99602334, 4.99681868, 4.99761401, 4.99840934, 4.99920467,\n",
       "        5.        ]),\n",
       " <BarContainer object of 100 artists>)"
      ]
     },
     "execution_count": 57,
     "metadata": {},
     "output_type": "execute_result"
    },
    {
     "data": {
      "image/png": "[encoded data removed]",
      "text/plain": [
       "<Figure size 432x288 with 1 Axes>"
      ]
     },
     "metadata": {
      "needs_background": "light"
     },
     "output_type": "display_data"
    }
   ],
   "source": [
    "plt.hist((((sample_uniform_l2(mid, 5, 100000) - mid) ** 2 ).sum(dim = (-1, -2), keepdim = True) ** 0.5)[1:].flatten().tolist(), bins = 100)\n",
    "# plt.show()"
   ]
  }
 ],
 "metadata": {
  "kernelspec": {
   "display_name": "Python 3 (ipykernel)",
   "language": "python",
   "name": "python3"
  },
  "language_info": {
   "codemirror_mode": {
    "name": "ipython",
    "version": 3
   },
   "file_extension": ".py",
   "mimetype": "text/x-python",
   "name": "python",
   "nbconvert_exporter": "python",
   "pygments_lexer": "ipython3",
   "version": "3.9.12"
  }
 },
 "nbformat": 4,
 "nbformat_minor": 5
}
